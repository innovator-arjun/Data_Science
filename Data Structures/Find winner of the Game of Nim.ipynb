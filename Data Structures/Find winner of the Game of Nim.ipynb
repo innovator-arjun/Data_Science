{
 "cells": [
  {
   "cell_type": "markdown",
   "metadata": {},
   "source": [
    "In Game of Nim, two players take turns removing objects from heaps or the pile of stones.\n",
    "Suppose two players A and B are playing the game. Each is allowed to take only one stone from the pile. The player who picks the last stone of the pile will win the game. Given N the number of stones in the pile, the task is to find the winner, if player A starts the game .\n",
    "\n",
    "Input:\n",
    "\n",
    "The first line of the input contains a single integer T, denoting the number of test cases. Then T test case follows, a single line of the input containing a positive integer N.\n",
    "\n",
    "\n",
    "Output:\n",
    "\n",
    "Print the winner i.e. Player A or Player B for each testcase in a separate line.\n",
    "Constraints:\n",
    "\n",
    "1<=T<=100\n",
    "\n",
    "1<=N<=1000\n",
    "Example:\n",
    "\n",
    "Input:\n",
    "\n",
    "2\n",
    "\n",
    "3\n",
    "\n",
    "15\n",
    "\n",
    "Output:\n",
    "\n",
    "Player A\n",
    "\n",
    "Player A\n",
    "\n",
    "Explanation:\n",
    "\n",
    "Testcase 1:\n",
    "\n",
    "Player A remove stone 1 which is at the top, then Player B remove stone 2\n",
    "and finally player A removes the last stone."
   ]
  },
  {
   "cell_type": "code",
   "execution_count": null,
   "metadata": {},
   "outputs": [],
   "source": []
  }
 ],
 "metadata": {
  "kernelspec": {
   "display_name": "Python 3",
   "language": "python",
   "name": "python3"
  },
  "language_info": {
   "codemirror_mode": {
    "name": "ipython",
    "version": 3
   },
   "file_extension": ".py",
   "mimetype": "text/x-python",
   "name": "python",
   "nbconvert_exporter": "python",
   "pygments_lexer": "ipython3",
   "version": "3.6.4"
  }
 },
 "nbformat": 4,
 "nbformat_minor": 2
}
