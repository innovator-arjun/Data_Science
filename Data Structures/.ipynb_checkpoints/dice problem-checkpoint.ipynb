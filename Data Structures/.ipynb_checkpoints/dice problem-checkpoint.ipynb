{
 "cells": [
  {
   "cell_type": "markdown",
   "metadata": {},
   "source": [
    "The dice problem\n",
    "You are given a cubic dice with 6 faces. All the individual faces have a number printed on them. The numbers are in the range of 1 to 6, like any ordinary dice. You will be provided with a face of this cube; your task is to guess the number on the opposite face of the cube.\n",
    "\n",
    "Input:\n",
    "The first line of the input contains a single integer T, denoting the number of test cases. Then T test case follows, a single line of the input containing a positive integer N.\n",
    "\n",
    "Output:\n",
    "For each testcase, print the number that is on the opposite side of the given face.\n",
    "\n",
    "Constraints:\n",
    "1<=T<=100\n",
    "1<=N<=6\n",
    "\n",
    "Example:\n",
    "\n",
    "Input:\n",
    "2\n",
    "6\n",
    "2\n",
    "\n",
    "Output:\n",
    "1\n",
    "5"
   ]
  },
  {
   "cell_type": "code",
   "execution_count": 7,
   "metadata": {},
   "outputs": [],
   "source": [
    "def dice(n):\n",
    "    if n==6:\n",
    "        print(1)\n",
    "    if n==5:\n",
    "        print(2)\n",
    "    if n==4:\n",
    "        print(3)\n",
    "    if n==3:\n",
    "        print(4)\n",
    "    if n==2:\n",
    "        print(5)\n",
    "    if n==1:\n",
    "        print(6)"
   ]
  },
  {
   "cell_type": "code",
   "execution_count": 13,
   "metadata": {},
   "outputs": [
    {
     "name": "stdout",
     "output_type": "stream",
     "text": [
      "2\n",
      "6\n",
      "1\n",
      "2\n",
      "5\n"
     ]
    }
   ],
   "source": [
    "it=int(input())\n",
    "while it>0:\n",
    "    inp=int(input())\n",
    "    dice(inp)\n",
    "    it=it-1"
   ]
  },
  {
   "cell_type": "code",
   "execution_count": null,
   "metadata": {},
   "outputs": [],
   "source": []
  }
 ],
 "metadata": {
  "kernelspec": {
   "display_name": "Python 3",
   "language": "python",
   "name": "python3"
  },
  "language_info": {
   "codemirror_mode": {
    "name": "ipython",
    "version": 3
   },
   "file_extension": ".py",
   "mimetype": "text/x-python",
   "name": "python",
   "nbconvert_exporter": "python",
   "pygments_lexer": "ipython3",
   "version": "3.6.4"
  }
 },
 "nbformat": 4,
 "nbformat_minor": 2
}
